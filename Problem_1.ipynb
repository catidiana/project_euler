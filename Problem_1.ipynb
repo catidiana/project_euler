{
 "cells": [
  {
   "cell_type": "markdown",
   "id": "dbff497c-d82a-481d-acf8-4ae703952a1d",
   "metadata": {},
   "source": [
    "Example of bad solution: the function that iterates through all numbers from 0 to 𝑛−1 and checks whether each number is a multiple of 3 or 5 using the modulo operator."
   ]
  },
  {
   "cell_type": "code",
   "execution_count": 3,
   "id": "da43d175-6a73-42e4-b81b-f7a26951fa61",
   "metadata": {},
   "outputs": [],
   "source": [
    "def multiples_of_3_or_5_bad(n: int) -> int:\n",
    "    total = 0\n",
    "    for i in range(n):\n",
    "        if i % 3 == 0 or i % 5 == 0:\n",
    "            total += i\n",
    "    return total"
   ]
  },
  {
   "cell_type": "markdown",
   "id": "53c9742a-d3c2-4ed2-95c1-241e8e8ff0ef",
   "metadata": {},
   "source": [
    "Time Complexity: 𝑂(𝑁)\n",
    "\n",
    "Space Complexity: 𝑂(1)"
   ]
  },
  {
   "cell_type": "markdown",
   "id": "4424b9dc-78fb-4af9-b647-08899c6f3077",
   "metadata": {},
   "source": [
    "Calculate the sum of all multiples of 𝑚 below 𝑁 using the formula for the sum of an arithmetic progression."
   ]
  },
  {
   "cell_type": "code",
   "execution_count": 5,
   "id": "8fad2cf9-1d9b-4f54-98b0-ade9e889df1f",
   "metadata": {},
   "outputs": [],
   "source": [
    "def sum_of_multiples_below(limit: int, multiple: int) -> int:\n",
    "    count = (limit - 1) // multiple\n",
    "    return multiple * count * (count + 1) // 2"
   ]
  },
  {
   "cell_type": "markdown",
   "id": "4a35c81e-c9b4-417f-a3bb-53798097481c",
   "metadata": {},
   "source": [
    "Time Complexity: 𝑂(1)\n",
    "\n",
    "Space Complexity: 𝑂(1)"
   ]
  },
  {
   "cell_type": "code",
   "execution_count": 8,
   "id": "fe4f613a-7d16-4d30-9a77-ffbf2fa742f5",
   "metadata": {},
   "outputs": [
    {
     "name": "stdout",
     "output_type": "stream",
     "text": [
      "233168\n"
     ]
    }
   ],
   "source": [
    "print(sum_of_multiples_below(1000, 3) + sum_of_multiples_below(1000, 5) - sum_of_multiples_below(1000, 15))"
   ]
  },
  {
   "cell_type": "code",
   "execution_count": null,
   "id": "b2383325-34db-4ae7-b5fb-4de6b5e900e2",
   "metadata": {},
   "outputs": [],
   "source": []
  }
 ],
 "metadata": {
  "kernelspec": {
   "display_name": "Python 3 (ipykernel)",
   "language": "python",
   "name": "python3"
  },
  "language_info": {
   "codemirror_mode": {
    "name": "ipython",
    "version": 3
   },
   "file_extension": ".py",
   "mimetype": "text/x-python",
   "name": "python",
   "nbconvert_exporter": "python",
   "pygments_lexer": "ipython3",
   "version": "3.12.4"
  }
 },
 "nbformat": 4,
 "nbformat_minor": 5
}
